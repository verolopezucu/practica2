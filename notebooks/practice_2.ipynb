{
 "cells": [
  {
   "cell_type": "markdown",
   "metadata": {
    "collapsed": false
   },
   "source": [
    "# Práctica 2\n",
    "\n",
    "Para esta tarea, veremos los datos de vacunas de 2017. El archivo con estos datos está en `/data/NISPUF17.csv`. Para conocer los nombres de las variables de los datos tienes disponible una guía de usuarios de datos en `/data/NIS-PUF17-DUG.pdf`."
   ]
  },
  {
   "cell_type": "markdown",
   "metadata": {
    "collapsed": false
   },
   "source": [
    "## Pregunta 1\n",
    "\n",
    "Escribe una función llamada `proportion_of_education` que devuelva la proporción de niños en el dataset que tuvieron una madre con los niveles de educación: igual a menor de secundaria (<12), secundaria (12), mayor que secundaria pero sin ser universitaria graduada (>12) y con título universitario.\n",
    "\n",
    "Esta función debería devolver un diccionario en forma de (use los números correctos, no redondee los números):\n",
    "\n",
    "```python\n",
    "{\"menor que  secundaria\": 0.2,\n",
    " \"secundaria\": 0.4,\n",
    " \"mayor a secundaria pero no universitaria\": 0.2,\n",
    " \"universitaria\": 0.2}\n",
    "```\n"
   ]
  },
  {
   "cell_type": "code",
   "execution_count": 31,
   "metadata": {
    "ExecuteTime": {
     "end_time": "2023-05-21T22:00:42.430893575Z",
     "start_time": "2023-05-21T22:00:42.382088417Z"
    },
    "collapsed": false
   },
   "outputs": [
    {
     "data": {
      "text/plain": [
       "{'menor que secundaria': 0.10202002459160373,\n",
       " 'secundaria': 0.172352011241876,\n",
       " 'mayor a secundaria pero no universitaria': 0.24588090637625154,\n",
       " 'universitaria': 0.47974705779026877}"
      ]
     },
     "execution_count": 31,
     "metadata": {},
     "output_type": "execute_result"
    }
   ],
   "source": [
    "import pandas as pd\n",
    "\n",
    "\n",
    "def proportion_of_education():\n",
    "    df = pd.read_csv ('../data/NISPUF17.csv')\n",
    "\n",
    "    #cantidad total niños\n",
    "    cantidad_niños = len (df)\n",
    "    #cantidad madres por cada grupo de madres\n",
    "    edu_madres = df['EDUC1'].value_counts().sort_index()\n",
    "    #proporcion sobre el total\n",
    "    proporcion = edu_madres/cantidad_niños\n",
    "\n",
    "    etiquetas =  {\n",
    "        1:\"menor que secundaria\", \n",
    "        2:\"secundaria\",\n",
    "        3:\"mayor a secundaria pero no universitaria\",\n",
    "        4:\"universitaria\",}\n",
    "    resultado = {etiquetas[i]: proporcion [i] for i in etiquetas}\n",
    "    return resultado\n",
    "proportion_of_education()\n",
    "\n",
    "    \n",
    "                    "
   ]
  },
  {
   "cell_type": "markdown",
   "metadata": {
    "collapsed": false
   },
   "source": [
    "## Pregunta 2\n",
    "\n",
    "Exploremos la relación entre ser alimentado con leche materna (fed breast milk) cuando era niño y recibir una vacuna contra la influenza estacional (seasonal influenza) de un proveedor de atención médica.\n",
    "\n",
    "Devuelva una tupla del número promedio de vacunas contra la influenza para aquellos niños que sabemos que recibieron leche materna cuando eran niños y aquellos que sabemos que no."
   ]
  },
  {
   "cell_type": "code",
   "execution_count": 32,
   "metadata": {
    "collapsed": false
   },
   "outputs": [],
   "source": [
    "import pandas as pd\n",
    "def average_influenza_doses():\n",
    "    df = pd.read_cvs('../data/NISPUF17.CVS')\n",
    "    filtrado = df[['CBF_01', 'PNMFLU']].dropna()\n",
    "    promedio_leche_materna = filtrado[filtrado['CBF_01']==1]['P_numflu'].mean()\n",
    "\n",
    "    promedio_no_leche_materna = filtrado[filtrado['CBF_01']==2]['P_NUMFLU'].mean()\n",
    "    return (promedio_no_leche_materna)\n",
    "                \n",
    "    average_influenza_doses()\n",
    "\n",
    "    # Tu código aquí\n",
    "\n",
    "\n"
   ]
  },
  {
   "cell_type": "markdown",
   "metadata": {
    "collapsed": false
   },
   "source": [
    "# Pregunta 3\n",
    "\n",
    "Sería interesante ver si hay evidencia de un vínculo entre la efectividad de la vacuna y el sexo del niño.\n",
    "Calcule el ratio entre el número de niños que contrajeron varicela (chickenpox) pero que fueron vacunados contra ella (al menos una dosis) versus los que fueron vacunados y no contrajeron varicela.\n",
    "\n",
    "Devuelve los resultados por sexo.\n",
    "\n",
    "Esta función debería devolver un diccionario en forma de:\n",
    "\n",
    "```python\n",
    "{\"male\": 0.2, \"female\": 0.4}\n",
    "```\n",
    "\n",
    "Nota: Para ayudar en la verificación, el valor de chickenpox_by_sex()['female'] comienza con los dígitos 0.0077."
   ]
  },
  {
   "cell_type": "code",
   "execution_count": 5,
   "metadata": {
    "collapsed": false
   },
   "outputs": [
    {
     "data": {
      "text/plain": [
       "{'male': 0.009675583380762664, 'female': 0.0077918259335489565}"
      ]
     },
     "execution_count": 5,
     "metadata": {},
     "output_type": "execute_result"
    }
   ],
   "source": [
    "import pandas as pd\n",
    "\n",
    "def chickenpox_by_sex():\n",
    "    #cargar datos en dataframe\n",
    "    df=pd.read_csv('../data/NISPUF17.csv')\n",
    "\n",
    "#contar numero de niños que contrajeron varicela luego de estar vacunados (HAD_CPOX=1) Y los vacunados que no contrajeron varicela (HAD_CPOX=2)\n",
    "\n",
    "    # Tu código aquí\n",
    "    vaccinated_boys_with_chickenpox = len(df[(df['SEX']==1)&(df['P_NUMVRC']>=1)&(df['HAD_CPOX']==1)])\n",
    "\n",
    "    vaccinated_boys_without_chickenpox = len(df[(df['SEX']==1)&(df['P_NUMVRC']>=1)&(df['HAD_CPOX']==2)])\n",
    "\n",
    "#contar el numero de niñas que contrajeron varicela luego de estar vacunadas (HAD_CPOX=1) y las vacunadas que no contrajeron varicela (HAD_CPOX=2=)\n",
    "    vaccinated_girls_with_chickenpox = len(df[(df['SEX']==2)&(df['P_NUMVRC']>=1)&(df['HAD_CPOX']==1)])\n",
    "\n",
    "    vaccinated_girls_without_chickenpox = len(df[(df['SEX']==2)&(df['P_NUMVRC']>=1)&(df['HAD_CPOX']==2)])\n",
    "\n",
    "    #CALCULAR RATIO POR GENERO \n",
    "    \n",
    "    ratio_by_sex = {\"male\":\n",
    "                    vaccinated_boys_with_chickenpox/vaccinated_boys_without_chickenpox,\n",
    "                    \"female\":\n",
    "                    vaccinated_girls_with_chickenpox/vaccinated_girls_without_chickenpox}\n",
    "    return ratio_by_sex\n",
    "\n",
    "#llamar funcion para resultados chickenpox_by_sex()\n",
    "\n",
    "chickenpox_by_sex()"
   ]
  },
  {
   "cell_type": "code",
   "execution_count": null,
   "metadata": {
    "collapsed": false
   },
   "outputs": [],
   "source": []
  }
 ],
 "metadata": {
  "kernelspec": {
   "display_name": "Python 3",
   "language": "python",
   "name": "python3"
  },
  "language_info": {
   "codemirror_mode": {
    "name": "ipython",
    "version": 3
   },
   "file_extension": ".py",
   "mimetype": "text/x-python",
   "name": "python",
   "nbconvert_exporter": "python",
   "pygments_lexer": "ipython3",
   "version": "3.11.4"
  }
 },
 "nbformat": 4,
 "nbformat_minor": 0
}
